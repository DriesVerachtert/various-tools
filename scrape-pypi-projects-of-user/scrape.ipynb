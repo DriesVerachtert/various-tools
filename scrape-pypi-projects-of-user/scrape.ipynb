{
 "cells": [
  {
   "cell_type": "code",
   "execution_count": 25,
   "metadata": {},
   "outputs": [],
   "source": [
    "import requests\n",
    "import typing\n",
    "from datetime import datetime\n",
    "from bs4 import BeautifulSoup\n",
    "import csv\n",
    "import psycopg\n",
    "import os"
   ]
  },
  {
   "cell_type": "code",
   "execution_count": 26,
   "metadata": {},
   "outputs": [
    {
     "name": "stdout",
     "output_type": "stream",
     "text": [
      "Page downloaded, length: 42917\n"
     ]
    }
   ],
   "source": [
    "url = \"https://pypi.org/user/bbp.opensource/\"\n",
    "page: requests.Response = requests.get(url)\n",
    "print(f\"Page downloaded, length: {len(page.content)}\")\n",
    "soup = BeautifulSoup(page.content, \"html.parser\")"
   ]
  },
  {
   "cell_type": "code",
   "execution_count": 27,
   "metadata": {},
   "outputs": [
    {
     "name": "stdout",
     "output_type": "stream",
     "text": [
      "0: PyPi package blueetl, URL: https://pypi.org/project/blueetl/,  lastrelease: 2024-02-29 13:08:57+00:00, description: Multiple simulations analysis tool\n",
      "1: PyPi package bluepyemodel, URL: https://pypi.org/project/bluepyemodel/,  lastrelease: 2024-02-28 14:39:03+00:00, description: Blue Brain Python Electrical Modeling Pipeline\n",
      "2: PyPi package neurodamus, URL: https://pypi.org/project/neurodamus/,  lastrelease: 2024-02-27 12:58:16+00:00, description: A BBP Simulation Control application for NEURON\n",
      "3: PyPi package data-validation-framework, URL: https://pypi.org/project/data-validation-framework/,  lastrelease: 2024-02-26 18:03:09+00:00, description: Simple framework to create data validation workflows.\n",
      "4: PyPi package AstroVascPy, URL: https://pypi.org/project/astrovascpy/,  lastrelease: 2024-02-22 15:53:33+00:00, description: Simulating blood flow in vasculature\n",
      "5: PyPi package brayns, URL: https://pypi.org/project/brayns/,  lastrelease: 2024-02-22 15:41:49+00:00, description: Brayns Python API\n",
      "6: PyPi package efel, URL: https://pypi.org/project/efel/,  lastrelease: 2024-02-21 09:26:01+00:00, description: Electrophys Feature Extract Library (eFEL)\n",
      "7: PyPi package TMD, URL: https://pypi.org/project/tmd/,  lastrelease: 2024-02-19 12:46:17+00:00, description: A python package for the topological analysis of neurons.\n",
      "8: PyPi package bluepyefe, URL: https://pypi.org/project/bluepyefe/,  lastrelease: 2024-02-19 12:21:18+00:00, description: Blue Brain Python E-feature extraction\n",
      "9: PyPi package emodel-generalisation, URL: https://pypi.org/project/emodel-generalisation/,  lastrelease: 2024-02-16 08:28:06+00:00, description: Generalisation of neuronal electrical models with MCMC\n",
      "10: PyPi package morphology-workflows, URL: https://pypi.org/project/morphology-workflows/,  lastrelease: 2024-02-15 16:39:11+00:00, description: Workflows used for morphology processing.\n",
      "11: PyPi package sphinx-bluebrain-theme, URL: https://pypi.org/project/sphinx-bluebrain-theme/,  lastrelease: 2024-02-14 15:15:38+00:00, description: Blue Brain Project theme for Sphinx\n",
      "12: PyPi package bluepysnap, URL: https://pypi.org/project/bluepysnap/,  lastrelease: 2024-02-14 15:00:46+00:00, description: Simulation and Neural network Analysis Productivity layer\n",
      "13: PyPi package atlas-placement-hints, URL: https://pypi.org/project/atlas-placement-hints/,  lastrelease: 2024-02-08 08:07:50+00:00, description: Library containing command lines and tools to compute placement hints\n",
      "14: PyPi package atlas-densities, URL: https://pypi.org/project/atlas-densities/,  lastrelease: 2024-02-08 07:49:31+00:00, description: Library containing command lines and tools to compute volumetric cell densities in the rodent brain\n",
      "15: PyPi package EModelRunner, URL: https://pypi.org/project/emodelrunner/,  lastrelease: 2024-02-07 14:59:58+00:00, description: Runs cells from Blue Brain Project cell packages, such as sscx, synapse plasticity, etc.\n",
      "16: PyPi package neurom, URL: https://pypi.org/project/neurom/,  lastrelease: 2024-02-07 12:42:36+00:00, description: NeuroM: a light-weight neuron morphology analysis package\n",
      "17: PyPi package bluepyopt, URL: https://pypi.org/project/bluepyopt/,  lastrelease: 2024-02-06 09:09:13+00:00, description: Bluebrain Python Optimisation Library (bluepyopt)\n",
      "18: PyPi package dir-content-diff, URL: https://pypi.org/project/dir-content-diff/,  lastrelease: 2024-02-05 18:34:48+00:00, description: Simple tool to compare directory contents.\n",
      "19: PyPi package atlas-direction-vectors, URL: https://pypi.org/project/atlas-direction-vectors/,  lastrelease: 2024-01-16 14:50:34+00:00, description: Commands to compute direction vectors in volumetric brain regions. Direction vectors are 3D unit vectors associated to voxels of a brain region. They represent the directions of the fiber tracts.\n",
      "20: PyPi package bluepymm, URL: https://pypi.org/project/bluepymm/,  lastrelease: 2024-01-15 08:36:07+00:00, description: Model Management Python Library (bluepymm)\n",
      "21: PyPi package libsonata, URL: https://pypi.org/project/libsonata/,  lastrelease: 2024-01-11 15:09:57+00:00, description: SONATA files reader\n",
      "22: PyPi package morph-tool, URL: https://pypi.org/project/morph-tool/,  lastrelease: 2024-01-03 09:02:31+00:00, description: A collection of CLIs and python function related to morphology handling\n",
      "23: PyPi package bioexplorer, URL: https://pypi.org/project/bioexplorer/,  lastrelease: 2023-12-12 17:13:19+00:00, description: Python API for the Blue Brain BioExplorer\n",
      "24: PyPi package MorphIO, URL: https://pypi.org/project/morphio/,  lastrelease: 2023-12-11 12:37:58+00:00, description: A neuron morphology IO library\n",
      "25: PyPi package blueetl-core, URL: https://pypi.org/project/blueetl-core/,  lastrelease: 2023-12-07 09:55:41+00:00, description: Core transformations for BlueETL\n",
      "26: PyPi package NeuroTS, URL: https://pypi.org/project/neurots/,  lastrelease: 2023-11-21 12:39:27+00:00, description: Synthesis of artificial neurons using their topological profiles package.\n",
      "27: PyPi package voxcell, URL: https://pypi.org/project/voxcell/,  lastrelease: 2023-11-21 12:13:07+00:00, description: Voxcell is a small library to handle probability distributions that have a spatial component and to use them to build collection of cells in space.\n",
      "28: PyPi package atlas-commons, URL: https://pypi.org/project/atlas-commons/,  lastrelease: 2023-11-21 07:31:45+00:00, description: Library containing common functions to build atlases\n",
      "29: PyPi package Connectome-Utilities, URL: https://pypi.org/project/connectome-utilities/,  lastrelease: 2023-10-31 18:08:23+00:00, description: Complex network representation and analysis layer\n",
      "30: PyPi package nexusforge, URL: https://pypi.org/project/nexusforge/,  lastrelease: 2023-07-17 16:09:16+00:00, description: Building and Using Knowledge Graphs made easy.\n",
      "31: PyPi package currentscape, URL: https://pypi.org/project/currentscape/,  lastrelease: 2023-07-12 12:24:23+00:00, description: Module to easily plot currentscape.\n",
      "32: PyPi package atlas-splitter, URL: https://pypi.org/project/atlas-splitter/,  lastrelease: 2023-05-23 11:40:48+00:00, description: CLI to split atlas regions and modify annotations accordingly\n",
      "33: PyPi package brion, URL: https://pypi.org/project/brion/,  lastrelease: 2023-05-08 13:24:24+00:00, description: BlueBrain I/O Library\n",
      "34: PyPi package diameter-synthesis, URL: https://pypi.org/project/diameter-synthesis/,  lastrelease: 2023-05-04 10:07:47+00:00, description: Diametrize cells.\n",
      "35: PyPi package luigi-tools, URL: https://pypi.org/project/luigi-tools/,  lastrelease: 2023-04-21 13:15:17+00:00, description: Tools to work with luigi.\n",
      "36: PyPi package NeuroR, URL: https://pypi.org/project/neuror/,  lastrelease: 2023-03-30 14:36:31+00:00, description: A morphology repair tool\n",
      "37: PyPi package vascpy, URL: https://pypi.org/project/vascpy/,  lastrelease: 2022-04-07 16:44:11+00:00, description: Vasculature API\n",
      "38: PyPi package bluegraph, URL: https://pypi.org/project/bluegraph/,  lastrelease: 2022-04-07 11:50:13+00:00, description: Knowledge Graphs analytics.\n",
      "39: PyPi package cgal-pybind, URL: https://pypi.org/project/cgal-pybind/,  lastrelease: 2022-03-08 12:58:54+00:00, description: Python bindings for some CGAL classes\n",
      "40: PyPi package plotly-helper, URL: https://pypi.org/project/plotly-helper/,  lastrelease: 2021-08-30 09:35:03+00:00, description: Package that makes plotly easy\n",
      "41: PyPi package rockets, URL: https://pypi.org/project/rockets/,  lastrelease: 2020-06-08 12:52:44+00:00, description: Rockets python client\n",
      "42: PyPi package basalt, URL: https://pypi.org/project/basalt/,  lastrelease: 2020-02-19 15:10:59+00:00, description: Graph API powered by RocksDB persistent key-value store for fast storage\n",
      "43: PyPi package flake8-oist-steps, URL: https://pypi.org/project/flake8-oist-steps/,  lastrelease: 2019-12-02 09:47:27+00:00, description: Check usage STEPS subcellular simulator\n",
      "44: PyPi package hpcbench, URL: https://pypi.org/project/hpcbench/,  lastrelease: 2019-04-25 13:21:22+00:00, description: Specify and run your benchmarks\n"
     ]
    }
   ],
   "source": [
    "package_snippets = soup.find_all(\"a\", class_=\"package-snippet\")\n",
    "\n",
    "class PyPiPackageInfo:\n",
    "  def __init__(self, name: str, url: str, description: str, last_release: datetime):\n",
    "    self.name: str = name\n",
    "    self.url: str = url\n",
    "    self.description: str = description\n",
    "    self.last_release: datetime = last_release\n",
    "\n",
    "  def __repr__(self):\n",
    "    return f\"PyPi package {self.name}, URL: {self.url},  lastrelease: {self.last_release}, description: {self.description}\"\n",
    "\n",
    "  def as_dict(self) -> typing.Dict[str,typing.Any]:\n",
    "    return {'name': self.name, 'url': self.url, 'description': self.description, 'last_release': self.last_release}\n",
    "\n",
    "all_packages: typing.List[PyPiPackageInfo] = []\n",
    "\n",
    "for snippet in package_snippets:\n",
    "  #print(snippet)\n",
    "  url = 'https://pypi.org' + snippet[\"href\"]\n",
    "  title_el = snippet.find_all(\"h3\", class_=\"package-snippet__title\")\n",
    "  name = title_el[0].text\n",
    "  description_el = snippet.find_all(\"p\", class_=\"package-snippet__description\")\n",
    "  description = description_el[0].text\n",
    "  time_el = snippet.find_all(\"time\")\n",
    "  last_release_str = time_el[0][\"datetime\"]\n",
    "  last_release = datetime.strptime( last_release_str,'%Y-%m-%dT%H:%M:%S%z')\n",
    "  all_packages.append(PyPiPackageInfo(name, url, description,  last_release))\n",
    "\n",
    "for i, package in enumerate(all_packages):\n",
    "  print(f\"{i}: {package}\")"
   ]
  },
  {
   "cell_type": "markdown",
   "metadata": {},
   "source": [
    "Export to CSV:"
   ]
  },
  {
   "cell_type": "code",
   "execution_count": 28,
   "metadata": {},
   "outputs": [],
   "source": [
    "filename=\"pypi-projects.csv\"\n",
    "\n",
    "with open(filename, 'w', newline='') as csvfile:\n",
    "    fieldnames = all_packages[0].as_dict().keys()\n",
    "    writer = csv.DictWriter(csvfile, fieldnames=fieldnames)\n",
    "\n",
    "    writer.writeheader()\n",
    "    for package in all_packages:\n",
    "        writer.writerow(package.as_dict())\n"
   ]
  },
  {
   "cell_type": "markdown",
   "metadata": {},
   "source": [
    "Write to DB:\n",
    "\n",
    "Note: expects an environment variable DB_CONNECTION_STRING with a psycopg3 compatible connection string,\n",
    "such has for example \"dbname=test user=postgres\"\n",
    "\n",
    "An example table:\n",
    "\n",
    "`CREATE TABLE pypi_package (name varchar(256) primary key, url text not null, description text, last_update timestamp)`"
   ]
  },
  {
   "cell_type": "code",
   "execution_count": 29,
   "metadata": {},
   "outputs": [
    {
     "ename": "SyntaxError",
     "evalue": "incomplete input (1494787593.py, line 4)",
     "output_type": "error",
     "traceback": [
      "\u001b[0;36m  Cell \u001b[0;32mIn[29], line 4\u001b[0;36m\u001b[0m\n\u001b[0;31m    \u001b[0m\n\u001b[0m    ^\u001b[0m\n\u001b[0;31mSyntaxError\u001b[0m\u001b[0;31m:\u001b[0m incomplete input\n"
     ]
    }
   ],
   "source": [
    "os.environ['DB_CONNECTION_STRING'] = \"dbname=cs_assets_prod user=cs_assets_prod host=pgsql14-ha-cs.bbp.epfl.ch port=5432 password=Xf7xV9jUqV2eHMfk\"\n",
    "db_connection_string = os.environ['DB_CONNECTION_STRING']\n",
    "with psycopg.connect(db_connection_string) as conn:\n",
    "  with conn.cursor() as cur:\n",
    "    for package in all_packages:\n",
    "      cur.execute(\n",
    "            \"INSERT INTO assets_pypi_package (name, url, description, last_update) VALUES (%s, %s, %s, %s)\",\n",
    "            (package.name, package.url, package.description, package.last_release))\n",
    "  conn.commit()"
   ]
  },
  {
   "cell_type": "markdown",
   "metadata": {},
   "source": []
  }
 ],
 "metadata": {
  "kernelspec": {
   "display_name": "venv",
   "language": "python",
   "name": "python3"
  },
  "language_info": {
   "codemirror_mode": {
    "name": "ipython",
    "version": 3
   },
   "file_extension": ".py",
   "mimetype": "text/x-python",
   "name": "python",
   "nbconvert_exporter": "python",
   "pygments_lexer": "ipython3",
   "version": "3.11.7"
  }
 },
 "nbformat": 4,
 "nbformat_minor": 2
}
